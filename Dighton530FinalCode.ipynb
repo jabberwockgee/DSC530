{
 "cells": [
  {
   "cell_type": "code",
   "execution_count": 4,
   "id": "4f79ec7c-5dbb-499d-9946-6acdcfde35f0",
   "metadata": {},
   "outputs": [
    {
     "name": "stdout",
     "output_type": "stream",
     "text": [
      "C:\\Users\\jabbe\\Downloads\\DSC530 ThinkStats2 Repository\\ThinkStats2\\code\n"
     ]
    }
   ],
   "source": [
    "cd C:\\Users\\jabbe\\Downloads\\DSC530 ThinkStats2 Repository\\ThinkStats2\\code"
   ]
  },
  {
   "cell_type": "code",
   "execution_count": 18,
   "id": "3769b144-169a-4659-b57b-8542823064fe",
   "metadata": {},
   "outputs": [],
   "source": [
    "import pandas as pd\n",
    "\n",
    "df = pd.read_excel(r\"C:\\Users\\jabbe\\OneDrive\\Desktop\\530 Project\\Data Set.xlsx\")"
   ]
  },
  {
   "cell_type": "code",
   "execution_count": 20,
   "id": "bf2ce983-c0c1-47a5-8b13-037406d4152f",
   "metadata": {},
   "outputs": [
    {
     "name": "stdout",
     "output_type": "stream",
     "text": [
      "          Date           GDP            M1            M2  Unemployment Rate  \\\n",
      "0   1959-01-01   3352.129000    139.333333    287.833333           5.833333   \n",
      "1   1959-04-01   3427.667000    140.533333    292.133333           5.100000   \n",
      "2   1959-07-01   3430.057000    141.533333    296.100000           5.266667   \n",
      "3   1959-10-01   3439.832000    140.266667    297.133333           5.600000   \n",
      "4   1960-01-01   3517.181000    139.900000    298.633333           5.133333   \n",
      "..         ...           ...           ...           ...                ...   \n",
      "258 2023-07-01  19963.669335  18226.966667  20726.333333           3.700000   \n",
      "259 2023-10-01  20033.030316  17989.233333  20687.866667           3.733333   \n",
      "260 2024-01-01  20102.391298  17949.200000  20783.533333           3.800000   \n",
      "261 2024-04-01  20171.752279  18010.500000  20953.533333           4.000000   \n",
      "262 2024-07-01  20241.113260  18092.566667  21133.933333           4.200000   \n",
      "\n",
      "     Government Expenditures  Federal Funds Rate  Inflation  \n",
      "0                     89.118            2.570000   1.814459  \n",
      "1                     90.132            3.083333   1.918614  \n",
      "2                     90.742            3.576667   2.024752  \n",
      "3                     92.047            3.990000   2.125671  \n",
      "4                     90.543            3.933333   2.115942  \n",
      "..                       ...                 ...        ...  \n",
      "258                 6527.403            5.260000   4.421367  \n",
      "259                 6619.838            5.330000   3.982304  \n",
      "260                 6772.827            5.330000   3.811308  \n",
      "261                 6864.587            5.330000   3.434510  \n",
      "262                 7048.543            5.263333   3.245822  \n",
      "\n",
      "[263 rows x 8 columns]\n"
     ]
    }
   ],
   "source": [
    "print(df)"
   ]
  },
  {
   "cell_type": "code",
   "execution_count": 70,
   "id": "6a84b174-c7c0-4ee7-bfc5-343d6fff92f4",
   "metadata": {},
   "outputs": [],
   "source": [
    "import thinkplot\n",
    "import numpy as np\n",
    "import thinkstats2"
   ]
  },
  {
   "cell_type": "code",
   "execution_count": 44,
   "id": "fad6fafc-135c-4bb5-9578-68eef09ff780",
   "metadata": {},
   "outputs": [],
   "source": [
    "# Having issues with column names with multiple words, so let's fix it.\n",
    "df.rename(columns={'Unemployment Rate': 'UnemploymentRate', \n",
    "                   'Government Expenditures': 'GovernmentExpenditures', \n",
    "                   'Federal Funds Rate': 'FederalFundsRate'}, inplace=True)"
   ]
  },
  {
   "cell_type": "code",
   "execution_count": 46,
   "id": "03188492-dcc7-47f8-b71e-41951bfe0f86",
   "metadata": {},
   "outputs": [
    {
     "data": {
      "text/html": [
       "<div>\n",
       "<style scoped>\n",
       "    .dataframe tbody tr th:only-of-type {\n",
       "        vertical-align: middle;\n",
       "    }\n",
       "\n",
       "    .dataframe tbody tr th {\n",
       "        vertical-align: top;\n",
       "    }\n",
       "\n",
       "    .dataframe thead th {\n",
       "        text-align: right;\n",
       "    }\n",
       "</style>\n",
       "<table border=\"1\" class=\"dataframe\">\n",
       "  <thead>\n",
       "    <tr style=\"text-align: right;\">\n",
       "      <th></th>\n",
       "      <th>Date</th>\n",
       "      <th>GDP</th>\n",
       "      <th>M1</th>\n",
       "      <th>M2</th>\n",
       "      <th>UnemploymentRate</th>\n",
       "      <th>GovernmentExpenditures</th>\n",
       "      <th>FederalFundsRate</th>\n",
       "      <th>Inflation</th>\n",
       "    </tr>\n",
       "  </thead>\n",
       "  <tbody>\n",
       "    <tr>\n",
       "      <th>0</th>\n",
       "      <td>1959-01-01</td>\n",
       "      <td>3352.129000</td>\n",
       "      <td>139.333333</td>\n",
       "      <td>287.833333</td>\n",
       "      <td>5.833333</td>\n",
       "      <td>89.118</td>\n",
       "      <td>2.570000</td>\n",
       "      <td>1.814459</td>\n",
       "    </tr>\n",
       "    <tr>\n",
       "      <th>1</th>\n",
       "      <td>1959-04-01</td>\n",
       "      <td>3427.667000</td>\n",
       "      <td>140.533333</td>\n",
       "      <td>292.133333</td>\n",
       "      <td>5.100000</td>\n",
       "      <td>90.132</td>\n",
       "      <td>3.083333</td>\n",
       "      <td>1.918614</td>\n",
       "    </tr>\n",
       "    <tr>\n",
       "      <th>2</th>\n",
       "      <td>1959-07-01</td>\n",
       "      <td>3430.057000</td>\n",
       "      <td>141.533333</td>\n",
       "      <td>296.100000</td>\n",
       "      <td>5.266667</td>\n",
       "      <td>90.742</td>\n",
       "      <td>3.576667</td>\n",
       "      <td>2.024752</td>\n",
       "    </tr>\n",
       "    <tr>\n",
       "      <th>3</th>\n",
       "      <td>1959-10-01</td>\n",
       "      <td>3439.832000</td>\n",
       "      <td>140.266667</td>\n",
       "      <td>297.133333</td>\n",
       "      <td>5.600000</td>\n",
       "      <td>92.047</td>\n",
       "      <td>3.990000</td>\n",
       "      <td>2.125671</td>\n",
       "    </tr>\n",
       "    <tr>\n",
       "      <th>4</th>\n",
       "      <td>1960-01-01</td>\n",
       "      <td>3517.181000</td>\n",
       "      <td>139.900000</td>\n",
       "      <td>298.633333</td>\n",
       "      <td>5.133333</td>\n",
       "      <td>90.543</td>\n",
       "      <td>3.933333</td>\n",
       "      <td>2.115942</td>\n",
       "    </tr>\n",
       "    <tr>\n",
       "      <th>...</th>\n",
       "      <td>...</td>\n",
       "      <td>...</td>\n",
       "      <td>...</td>\n",
       "      <td>...</td>\n",
       "      <td>...</td>\n",
       "      <td>...</td>\n",
       "      <td>...</td>\n",
       "      <td>...</td>\n",
       "    </tr>\n",
       "    <tr>\n",
       "      <th>258</th>\n",
       "      <td>2023-07-01</td>\n",
       "      <td>19963.669335</td>\n",
       "      <td>18226.966667</td>\n",
       "      <td>20726.333333</td>\n",
       "      <td>3.700000</td>\n",
       "      <td>6527.403</td>\n",
       "      <td>5.260000</td>\n",
       "      <td>4.421367</td>\n",
       "    </tr>\n",
       "    <tr>\n",
       "      <th>259</th>\n",
       "      <td>2023-10-01</td>\n",
       "      <td>20033.030316</td>\n",
       "      <td>17989.233333</td>\n",
       "      <td>20687.866667</td>\n",
       "      <td>3.733333</td>\n",
       "      <td>6619.838</td>\n",
       "      <td>5.330000</td>\n",
       "      <td>3.982304</td>\n",
       "    </tr>\n",
       "    <tr>\n",
       "      <th>260</th>\n",
       "      <td>2024-01-01</td>\n",
       "      <td>20102.391298</td>\n",
       "      <td>17949.200000</td>\n",
       "      <td>20783.533333</td>\n",
       "      <td>3.800000</td>\n",
       "      <td>6772.827</td>\n",
       "      <td>5.330000</td>\n",
       "      <td>3.811308</td>\n",
       "    </tr>\n",
       "    <tr>\n",
       "      <th>261</th>\n",
       "      <td>2024-04-01</td>\n",
       "      <td>20171.752279</td>\n",
       "      <td>18010.500000</td>\n",
       "      <td>20953.533333</td>\n",
       "      <td>4.000000</td>\n",
       "      <td>6864.587</td>\n",
       "      <td>5.330000</td>\n",
       "      <td>3.434510</td>\n",
       "    </tr>\n",
       "    <tr>\n",
       "      <th>262</th>\n",
       "      <td>2024-07-01</td>\n",
       "      <td>20241.113260</td>\n",
       "      <td>18092.566667</td>\n",
       "      <td>21133.933333</td>\n",
       "      <td>4.200000</td>\n",
       "      <td>7048.543</td>\n",
       "      <td>5.263333</td>\n",
       "      <td>3.245822</td>\n",
       "    </tr>\n",
       "  </tbody>\n",
       "</table>\n",
       "<p>263 rows × 8 columns</p>\n",
       "</div>"
      ],
      "text/plain": [
       "          Date           GDP            M1            M2  UnemploymentRate  \\\n",
       "0   1959-01-01   3352.129000    139.333333    287.833333          5.833333   \n",
       "1   1959-04-01   3427.667000    140.533333    292.133333          5.100000   \n",
       "2   1959-07-01   3430.057000    141.533333    296.100000          5.266667   \n",
       "3   1959-10-01   3439.832000    140.266667    297.133333          5.600000   \n",
       "4   1960-01-01   3517.181000    139.900000    298.633333          5.133333   \n",
       "..         ...           ...           ...           ...               ...   \n",
       "258 2023-07-01  19963.669335  18226.966667  20726.333333          3.700000   \n",
       "259 2023-10-01  20033.030316  17989.233333  20687.866667          3.733333   \n",
       "260 2024-01-01  20102.391298  17949.200000  20783.533333          3.800000   \n",
       "261 2024-04-01  20171.752279  18010.500000  20953.533333          4.000000   \n",
       "262 2024-07-01  20241.113260  18092.566667  21133.933333          4.200000   \n",
       "\n",
       "     GovernmentExpenditures  FederalFundsRate  Inflation  \n",
       "0                    89.118          2.570000   1.814459  \n",
       "1                    90.132          3.083333   1.918614  \n",
       "2                    90.742          3.576667   2.024752  \n",
       "3                    92.047          3.990000   2.125671  \n",
       "4                    90.543          3.933333   2.115942  \n",
       "..                      ...               ...        ...  \n",
       "258                6527.403          5.260000   4.421367  \n",
       "259                6619.838          5.330000   3.982304  \n",
       "260                6772.827          5.330000   3.811308  \n",
       "261                6864.587          5.330000   3.434510  \n",
       "262                7048.543          5.263333   3.245822  \n",
       "\n",
       "[263 rows x 8 columns]"
      ]
     },
     "execution_count": 46,
     "metadata": {},
     "output_type": "execute_result"
    }
   ],
   "source": [
    "# Let's check it\n",
    "df"
   ]
  },
  {
   "cell_type": "code",
   "execution_count": 48,
   "id": "e73cca85-8d3f-4e4b-8651-6a2a8c35adcf",
   "metadata": {},
   "outputs": [],
   "source": [
    "# I don't know why it turned ugly, but I can make the variables now\n",
    "gdp = df.GDP\n",
    "m1  = df.M1\n",
    "m2  = df.M2\n",
    "ur  = df.UnemploymentRate\n",
    "g   = df.GovernmentExpenditures\n",
    "ffr = df.FederalFundsRate\n",
    "i   = df.Inflation"
   ]
  },
  {
   "cell_type": "code",
   "execution_count": 76,
   "id": "3eb012cd-3346-4f81-957d-b07f4bf0d187",
   "metadata": {},
   "outputs": [
    {
     "data": {
      "image/png": "[encoded data removed]",
      "text/plain": [
       "<Figure size 640x480 with 1 Axes>"
      ]
     },
     "metadata": {},
     "output_type": "display_data"
    },
    {
     "data": {
      "text/plain": [
       "<Figure size 800x600 with 0 Axes>"
      ]
     },
     "metadata": {},
     "output_type": "display_data"
    }
   ],
   "source": [
    "hist = thinkstats2.Hist(gdp)\n",
    "thinkplot.Hist(hist)\n",
    "thinkplot.Show(xlabel = 'gdp')"
   ]
  },
  {
   "cell_type": "code",
   "execution_count": 915,
   "id": "72a29bcb-215d-4862-b8ab-78f82bdc3b53",
   "metadata": {},
   "outputs": [],
   "source": [
    "# Not showing anything so I'm going to do a simpler histogram for each variable"
   ]
  },
  {
   "cell_type": "code",
   "execution_count": 78,
   "id": "681f15e1-ab63-4c36-ab8c-a80ad220ef77",
   "metadata": {},
   "outputs": [
    {
     "data": {
      "text/plain": [
       "Text(0.5, 0, 'GDP')"
      ]
     },
     "execution_count": 78,
     "metadata": {},
     "output_type": "execute_result"
    },
    {
     "data": {
      "image/png": "[encoded data removed]",
      "text/plain": [
       "<Figure size 640x480 with 1 Axes>"
      ]
     },
     "metadata": {},
     "output_type": "display_data"
    }
   ],
   "source": [
    "import matplotlib.pyplot as plt\n",
    "plt.hist(gdp, bins=30, color='skyblue', edgecolor='black')\n",
    "plt.xlabel('GDP')"
   ]
  },
  {
   "cell_type": "code",
   "execution_count": 121,
   "id": "55a6eb5d-c05e-49af-a381-428ddc158361",
   "metadata": {},
   "outputs": [],
   "source": [
    "import statistics"
   ]
  },
  {
   "cell_type": "code",
   "execution_count": 917,
   "id": "142eea8f-bd36-4017-8571-e759bc48b705",
   "metadata": {},
   "outputs": [],
   "source": [
    "# Let's do the summary statistics"
   ]
  },
  {
   "cell_type": "code",
   "execution_count": 135,
   "id": "68939d42-984b-42b8-b3d9-0c874da775ca",
   "metadata": {},
   "outputs": [
    {
     "data": {
      "text/plain": [
       "11154.824712330366"
      ]
     },
     "execution_count": 135,
     "metadata": {},
     "output_type": "execute_result"
    }
   ],
   "source": [
    "gdp.mean()"
   ]
  },
  {
   "cell_type": "code",
   "execution_count": 125,
   "id": "da7ff5bd-0e40-41f7-b56b-c1780d6236a9",
   "metadata": {},
   "outputs": [
    {
     "data": {
      "text/plain": [
       "3352.129"
      ]
     },
     "execution_count": 125,
     "metadata": {},
     "output_type": "execute_result"
    }
   ],
   "source": [
    "statistics.mode(gdp)"
   ]
  },
  {
   "cell_type": "code",
   "execution_count": 148,
   "id": "6cc0c636-d909-4457-a668-83a5af4a3321",
   "metadata": {},
   "outputs": [
    {
     "data": {
      "text/plain": [
       "16888.9842601996"
      ]
     },
     "execution_count": 148,
     "metadata": {},
     "output_type": "execute_result"
    }
   ],
   "source": [
    "maxgdp = gdp.max()\n",
    "mingdp = gdp.min()\n",
    "spreadgdp = maxgdp-mingdp\n",
    "spreadgdp"
   ]
  },
  {
   "cell_type": "code",
   "execution_count": 131,
   "id": "c210f16a-db45-4636-bf92-76e335966a57",
   "metadata": {},
   "outputs": [
    {
     "data": {
      "text/plain": [
       "28270708.56164089"
      ]
     },
     "execution_count": 131,
     "metadata": {},
     "output_type": "execute_result"
    }
   ],
   "source": [
    "gdp.var()"
   ]
  },
  {
   "cell_type": "code",
   "execution_count": 133,
   "id": "fb0a2a4b-3378-40d6-bfe1-e8b9dd1db9a2",
   "metadata": {},
   "outputs": [
    {
     "data": {
      "text/plain": [
       "5317.020647095597"
      ]
     },
     "execution_count": 133,
     "metadata": {},
     "output_type": "execute_result"
    }
   ],
   "source": [
    "gdp.std()"
   ]
  },
  {
   "cell_type": "code",
   "execution_count": 176,
   "id": "ffa07334-75ef-40c5-bb21-ac84b0d7baa5",
   "metadata": {},
   "outputs": [
    {
     "data": {
      "text/plain": [
       "0.16465469536487515"
      ]
     },
     "execution_count": 176,
     "metadata": {},
     "output_type": "execute_result"
    }
   ],
   "source": [
    "from scipy.stats import skew\n",
    "skew(gdp)"
   ]
  },
  {
   "cell_type": "code",
   "execution_count": 174,
   "id": "c2487380-9596-4860-b8bd-85a3a3dfb588",
   "metadata": {},
   "outputs": [
    {
     "data": {
      "text/plain": [
       "-1.4150029069260912"
      ]
     },
     "execution_count": 174,
     "metadata": {},
     "output_type": "execute_result"
    }
   ],
   "source": [
    "from scipy.stats import kurtosis\n",
    "kurtosis(gdp)"
   ]
  },
  {
   "cell_type": "code",
   "execution_count": 140,
   "id": "69a5d585-deb7-4a0c-9d3a-0d05885469c2",
   "metadata": {},
   "outputs": [
    {
     "data": {
      "text/plain": [
       "Text(0.5, 0, 'M1 Money Supply')"
      ]
     },
     "execution_count": 140,
     "metadata": {},
     "output_type": "execute_result"
    },
    {
     "data": {
      "image/png": "[encoded data removed]",
      "text/plain": [
       "<Figure size 640x480 with 1 Axes>"
      ]
     },
     "metadata": {},
     "output_type": "display_data"
    }
   ],
   "source": [
    "plt.hist(m1, bins=30, color='skyblue', edgecolor='black')\n",
    "plt.xlabel('M1 Money Supply')"
   ]
  },
  {
   "cell_type": "code",
   "execution_count": 144,
   "id": "11f5a714-c62d-4d0a-87b3-77c9affa94b8",
   "metadata": {},
   "outputs": [
    {
     "data": {
      "text/plain": [
       "2241.726742712294"
      ]
     },
     "execution_count": 144,
     "metadata": {},
     "output_type": "execute_result"
    }
   ],
   "source": [
    "m1.mean()"
   ]
  },
  {
   "cell_type": "code",
   "execution_count": 162,
   "id": "2bcf1dec-f813-4b93-8cbe-68a91db046bf",
   "metadata": {},
   "outputs": [
    {
     "data": {
      "text/plain": [
       "141.53333333333333"
      ]
     },
     "execution_count": 162,
     "metadata": {},
     "output_type": "execute_result"
    }
   ],
   "source": [
    "statistics.mode(m1)"
   ]
  },
  {
   "cell_type": "code",
   "execution_count": 150,
   "id": "a13b9663-4703-4c65-aac5-7ee4540c5fd1",
   "metadata": {},
   "outputs": [
    {
     "data": {
      "text/plain": [
       "20520.76666666667"
      ]
     },
     "execution_count": 150,
     "metadata": {},
     "output_type": "execute_result"
    }
   ],
   "source": [
    "maxm1 = m1.max()\n",
    "minm1 = m1.min()\n",
    "spreadm1 = maxm1-minm1\n",
    "spreadm1"
   ]
  },
  {
   "cell_type": "code",
   "execution_count": 156,
   "id": "48b668cb-e699-4339-849b-501f4ac6b0eb",
   "metadata": {},
   "outputs": [
    {
     "data": {
      "text/plain": [
       "4557.44806602271"
      ]
     },
     "execution_count": 156,
     "metadata": {},
     "output_type": "execute_result"
    }
   ],
   "source": [
    "m1.std()"
   ]
  },
  {
   "cell_type": "code",
   "execution_count": 178,
   "id": "6a92f6c7-f559-4699-92ce-c6ce9a87950c",
   "metadata": {},
   "outputs": [
    {
     "data": {
      "text/plain": [
       "3.2357053879690887"
      ]
     },
     "execution_count": 178,
     "metadata": {},
     "output_type": "execute_result"
    }
   ],
   "source": [
    "skew(m1)"
   ]
  },
  {
   "cell_type": "code",
   "execution_count": 180,
   "id": "9f68a154-b9b1-485c-9df8-fafe03fa567f",
   "metadata": {},
   "outputs": [
    {
     "data": {
      "text/plain": [
       "9.119414865842433"
      ]
     },
     "execution_count": 180,
     "metadata": {},
     "output_type": "execute_result"
    }
   ],
   "source": [
    "kurtosis(m1)"
   ]
  },
  {
   "cell_type": "code",
   "execution_count": 142,
   "id": "aba0e10a-26a6-485c-ac6e-c751d9d23257",
   "metadata": {},
   "outputs": [
    {
     "data": {
      "text/plain": [
       "Text(0.5, 0, 'M2 Money Supply')"
      ]
     },
     "execution_count": 142,
     "metadata": {},
     "output_type": "execute_result"
    },
    {
     "data": {
      "image/png": "[encoded data removed]",
      "text/plain": [
       "<Figure size 640x480 with 1 Axes>"
      ]
     },
     "metadata": {},
     "output_type": "display_data"
    }
   ],
   "source": [
    "plt.hist(m2, bins=30, color='skyblue', edgecolor='black')\n",
    "plt.xlabel('M2 Money Supply')"
   ]
  },
  {
   "cell_type": "code",
   "execution_count": 164,
   "id": "2f75c9fa-eee1-479c-b425-976fe3b6146d",
   "metadata": {},
   "outputs": [
    {
     "data": {
      "text/plain": [
       "5369.368060836502"
      ]
     },
     "execution_count": 164,
     "metadata": {},
     "output_type": "execute_result"
    }
   ],
   "source": [
    "m2.mean()"
   ]
  },
  {
   "cell_type": "code",
   "execution_count": 166,
   "id": "9e5c734f-ca39-48bb-b4df-dc14a1f345ed",
   "metadata": {},
   "outputs": [
    {
     "data": {
      "text/plain": [
       "287.8333333333333"
      ]
     },
     "execution_count": 166,
     "metadata": {},
     "output_type": "execute_result"
    }
   ],
   "source": [
    "statistics.mode(m2)"
   ]
  },
  {
   "cell_type": "code",
   "execution_count": 168,
   "id": "dc00c225-76be-4023-ab13-92aeb5182af5",
   "metadata": {},
   "outputs": [
    {
     "data": {
      "text/plain": [
       "21402.9"
      ]
     },
     "execution_count": 168,
     "metadata": {},
     "output_type": "execute_result"
    }
   ],
   "source": [
    "maxm2 = m2.max()\n",
    "minm2= m2.min()\n",
    "spreadm2 = maxm2-minm2\n",
    "spreadm2"
   ]
  },
  {
   "cell_type": "code",
   "execution_count": 170,
   "id": "55efaf67-bf88-4605-90fc-742648a67ffe",
   "metadata": {},
   "outputs": [
    {
     "data": {
      "text/plain": [
       "5700.319058777307"
      ]
     },
     "execution_count": 170,
     "metadata": {},
     "output_type": "execute_result"
    }
   ],
   "source": [
    "m2.std()"
   ]
  },
  {
   "cell_type": "code",
   "execution_count": 184,
   "id": "6c74a77e-8282-4996-890f-e2b0d12ce513",
   "metadata": {},
   "outputs": [
    {
     "data": {
      "text/plain": [
       "1.4091956820193896"
      ]
     },
     "execution_count": 184,
     "metadata": {},
     "output_type": "execute_result"
    }
   ],
   "source": [
    "skew(m2)"
   ]
  },
  {
   "cell_type": "code",
   "execution_count": 186,
   "id": "4b6d1fe0-ad98-474a-bf42-b4a06def8534",
   "metadata": {},
   "outputs": [
    {
     "data": {
      "text/plain": [
       "1.1515179572260639"
      ]
     },
     "execution_count": 186,
     "metadata": {},
     "output_type": "execute_result"
    }
   ],
   "source": [
    "kurtosis(m2)"
   ]
  },
  {
   "cell_type": "code",
   "execution_count": 88,
   "id": "7391dcc3-49eb-4e58-b99e-7e7000995c22",
   "metadata": {},
   "outputs": [
    {
     "data": {
      "text/plain": [
       "Text(0.5, 0, 'Unemployment Rate')"
      ]
     },
     "execution_count": 88,
     "metadata": {},
     "output_type": "execute_result"
    },
    {
     "data": {
      "image/png": "[encoded data removed]",
      "text/plain": [
       "<Figure size 640x480 with 1 Axes>"
      ]
     },
     "metadata": {},
     "output_type": "display_data"
    }
   ],
   "source": [
    "plt.hist(ur, bins=30, color='skyblue', edgecolor='black')\n",
    "plt.xlabel('Unemployment Rate')"
   ]
  },
  {
   "cell_type": "code",
   "execution_count": 190,
   "id": "7714f403-dba7-4c13-a820-381fc8c99dda",
   "metadata": {},
   "outputs": [
    {
     "data": {
      "text/plain": [
       "5.887325728770596"
      ]
     },
     "execution_count": 190,
     "metadata": {},
     "output_type": "execute_result"
    }
   ],
   "source": [
    "ur.mean()"
   ]
  },
  {
   "cell_type": "code",
   "execution_count": 192,
   "id": "1c17d0b2-290f-4477-87a0-5a746f1d4a52",
   "metadata": {},
   "outputs": [
    {
     "data": {
      "text/plain": [
       "5.7"
      ]
     },
     "execution_count": 192,
     "metadata": {},
     "output_type": "execute_result"
    }
   ],
   "source": [
    "statistics.mode(ur)"
   ]
  },
  {
   "cell_type": "code",
   "execution_count": 194,
   "id": "c3c0f8bd-0d31-4906-bb55-0a9613c30642",
   "metadata": {},
   "outputs": [
    {
     "data": {
      "text/plain": [
       "9.6"
      ]
     },
     "execution_count": 194,
     "metadata": {},
     "output_type": "execute_result"
    }
   ],
   "source": [
    "spreadur = ur.max()-ur.min()\n",
    "spreadur"
   ]
  },
  {
   "cell_type": "code",
   "execution_count": 196,
   "id": "436e9132-10c1-4a6c-bc9d-b00ff65effae",
   "metadata": {},
   "outputs": [
    {
     "data": {
      "text/plain": [
       "1.6793385663106135"
      ]
     },
     "execution_count": 196,
     "metadata": {},
     "output_type": "execute_result"
    }
   ],
   "source": [
    "ur.std()"
   ]
  },
  {
   "cell_type": "code",
   "execution_count": 198,
   "id": "2c88fd2a-c45f-464f-a650-8487cba5eabe",
   "metadata": {},
   "outputs": [
    {
     "data": {
      "text/plain": [
       "0.8772430539531372"
      ]
     },
     "execution_count": 198,
     "metadata": {},
     "output_type": "execute_result"
    }
   ],
   "source": [
    "skew(ur)"
   ]
  },
  {
   "cell_type": "code",
   "execution_count": 200,
   "id": "acaf71cf-3398-4932-a757-a908aee363f3",
   "metadata": {},
   "outputs": [
    {
     "data": {
      "text/plain": [
       "0.8037093837179468"
      ]
     },
     "execution_count": 200,
     "metadata": {},
     "output_type": "execute_result"
    }
   ],
   "source": [
    "kurtosis(ur)"
   ]
  },
  {
   "cell_type": "code",
   "execution_count": 90,
   "id": "fa83ae7a-b2f1-4432-8260-2c9bb0b7d18f",
   "metadata": {},
   "outputs": [
    {
     "data": {
      "text/plain": [
       "Text(0.5, 0, 'Government Expenditures')"
      ]
     },
     "execution_count": 90,
     "metadata": {},
     "output_type": "execute_result"
    },
    {
     "data": {
      "image/png": "[encoded data removed]",
      "text/plain": [
       "<Figure size 640x480 with 1 Axes>"
      ]
     },
     "metadata": {},
     "output_type": "display_data"
    }
   ],
   "source": [
    "plt.hist(g, bins=30, color='skyblue', edgecolor='black')\n",
    "plt.xlabel('Government Expenditures')"
   ]
  },
  {
   "cell_type": "code",
   "execution_count": 202,
   "id": "77a5a263-1e1d-4b14-a61e-f330170b38ab",
   "metadata": {},
   "outputs": [
    {
     "data": {
      "text/plain": [
       "1953.9747072243347"
      ]
     },
     "execution_count": 202,
     "metadata": {},
     "output_type": "execute_result"
    }
   ],
   "source": [
    "g.mean()"
   ]
  },
  {
   "cell_type": "code",
   "execution_count": 204,
   "id": "866043d4-1492-4203-9f6d-87c4330aee98",
   "metadata": {},
   "outputs": [
    {
     "data": {
      "text/plain": [
       "89.118"
      ]
     },
     "execution_count": 204,
     "metadata": {},
     "output_type": "execute_result"
    }
   ],
   "source": [
    "statistics.mode(g)"
   ]
  },
  {
   "cell_type": "code",
   "execution_count": 206,
   "id": "ce57edc1-447d-4369-8fb2-b2bb9e7e8b78",
   "metadata": {},
   "outputs": [
    {
     "data": {
      "text/plain": [
       "8795.172999999999"
      ]
     },
     "execution_count": 206,
     "metadata": {},
     "output_type": "execute_result"
    }
   ],
   "source": [
    "spreadg = g.max()-g.min()\n",
    "spreadg"
   ]
  },
  {
   "cell_type": "code",
   "execution_count": 208,
   "id": "afc3a223-0c3e-401f-a919-ed334050b5b7",
   "metadata": {},
   "outputs": [
    {
     "data": {
      "text/plain": [
       "1900.6285296399226"
      ]
     },
     "execution_count": 208,
     "metadata": {},
     "output_type": "execute_result"
    }
   ],
   "source": [
    "g.std()"
   ]
  },
  {
   "cell_type": "code",
   "execution_count": 212,
   "id": "51c6d0c2-e8fd-4f12-8ea7-452f642a5651",
   "metadata": {},
   "outputs": [
    {
     "data": {
      "text/plain": [
       "1.2172078754077305"
      ]
     },
     "execution_count": 212,
     "metadata": {},
     "output_type": "execute_result"
    }
   ],
   "source": [
    "skew(g)"
   ]
  },
  {
   "cell_type": "code",
   "execution_count": 214,
   "id": "0bcdbbe6-fbab-4eed-b8a0-c7442b6d08b0",
   "metadata": {},
   "outputs": [
    {
     "data": {
      "text/plain": [
       "0.9605145977128497"
      ]
     },
     "execution_count": 214,
     "metadata": {},
     "output_type": "execute_result"
    }
   ],
   "source": [
    "kurtosis(g)"
   ]
  },
  {
   "cell_type": "code",
   "execution_count": 92,
   "id": "5c72d63f-8141-4d53-8989-3da89cc5b638",
   "metadata": {},
   "outputs": [
    {
     "data": {
      "text/plain": [
       "Text(0.5, 0, 'Federal Funds Rate')"
      ]
     },
     "execution_count": 92,
     "metadata": {},
     "output_type": "execute_result"
    },
    {
     "data": {
      "image/png": "[encoded data removed]",
      "text/plain": [
       "<Figure size 640x480 with 1 Axes>"
      ]
     },
     "metadata": {},
     "output_type": "display_data"
    }
   ],
   "source": [
    "plt.hist(ffr, bins=30, color='skyblue', edgecolor='black')\n",
    "plt.xlabel('Federal Funds Rate')"
   ]
  },
  {
   "cell_type": "code",
   "execution_count": 216,
   "id": "4a546547-241d-41be-b889-92c176864df3",
   "metadata": {},
   "outputs": [
    {
     "data": {
      "text/plain": [
       "4.777211660329532"
      ]
     },
     "execution_count": 216,
     "metadata": {},
     "output_type": "execute_result"
    }
   ],
   "source": [
    "ffr.mean()"
   ]
  },
  {
   "cell_type": "code",
   "execution_count": 218,
   "id": "28c14e55-f57f-4b97-b4b3-0006d2c9b624",
   "metadata": {},
   "outputs": [
    {
     "data": {
      "text/plain": [
       "0.09333333333333334"
      ]
     },
     "execution_count": 218,
     "metadata": {},
     "output_type": "execute_result"
    }
   ],
   "source": [
    "statistics.mode(ffr)"
   ]
  },
  {
   "cell_type": "code",
   "execution_count": 220,
   "id": "0d236063-9286-44fa-9b36-9f1c9849d79c",
   "metadata": {},
   "outputs": [
    {
     "data": {
      "text/plain": [
       "17.720000000000002"
      ]
     },
     "execution_count": 220,
     "metadata": {},
     "output_type": "execute_result"
    }
   ],
   "source": [
    "spreadffr = ffr.max()-ffr.min()\n",
    "spreadffr"
   ]
  },
  {
   "cell_type": "code",
   "execution_count": 224,
   "id": "954e7269-7ee2-482d-a162-66a1ec24e9e4",
   "metadata": {},
   "outputs": [
    {
     "data": {
      "text/plain": [
       "3.6099100003676146"
      ]
     },
     "execution_count": 224,
     "metadata": {},
     "output_type": "execute_result"
    }
   ],
   "source": [
    "ffr.std()"
   ]
  },
  {
   "cell_type": "code",
   "execution_count": 226,
   "id": "42ef2c86-a272-4419-86fc-abc05a01d420",
   "metadata": {},
   "outputs": [
    {
     "data": {
      "text/plain": [
       "0.9160010752933438"
      ]
     },
     "execution_count": 226,
     "metadata": {},
     "output_type": "execute_result"
    }
   ],
   "source": [
    "ffr.skew()"
   ]
  },
  {
   "cell_type": "code",
   "execution_count": 228,
   "id": "d625e631-063e-4519-83c2-3556cb342b6d",
   "metadata": {},
   "outputs": [
    {
     "data": {
      "text/plain": [
       "1.1139013357680936"
      ]
     },
     "execution_count": 228,
     "metadata": {},
     "output_type": "execute_result"
    }
   ],
   "source": [
    "ffr.kurtosis()"
   ]
  },
  {
   "cell_type": "code",
   "execution_count": 94,
   "id": "358bcf6c-3005-4e4a-9b6d-0a738c5a1a1b",
   "metadata": {},
   "outputs": [
    {
     "data": {
      "text/plain": [
       "Text(0.5, 0, 'Inflation')"
      ]
     },
     "execution_count": 94,
     "metadata": {},
     "output_type": "execute_result"
    },
    {
     "data": {
      "image/png": "[encoded data removed]",
      "text/plain": [
       "<Figure size 640x480 with 1 Axes>"
      ]
     },
     "metadata": {},
     "output_type": "display_data"
    }
   ],
   "source": [
    "plt.hist(i, bins=30, color='skyblue', edgecolor='black')\n",
    "plt.xlabel('Inflation')"
   ]
  },
  {
   "cell_type": "code",
   "execution_count": 230,
   "id": "9e560154-6b70-429c-a7e7-b13fdb7e2724",
   "metadata": {},
   "outputs": [
    {
     "data": {
      "text/plain": [
       "3.6990476231519533"
      ]
     },
     "execution_count": 230,
     "metadata": {},
     "output_type": "execute_result"
    }
   ],
   "source": [
    "i.mean()"
   ]
  },
  {
   "cell_type": "code",
   "execution_count": 232,
   "id": "006e33a5-7ad3-4193-84cf-c97099eb8c5b",
   "metadata": {},
   "outputs": [
    {
     "data": {
      "text/plain": [
       "1.8144590321039982"
      ]
     },
     "execution_count": 232,
     "metadata": {},
     "output_type": "execute_result"
    }
   ],
   "source": [
    "statistics.mode(i)"
   ]
  },
  {
   "cell_type": "code",
   "execution_count": 234,
   "id": "ec47d6a7-a4eb-44d6-bdd7-7d2ef92cb89f",
   "metadata": {},
   "outputs": [
    {
     "data": {
      "text/plain": [
       "12.630060882618757"
      ]
     },
     "execution_count": 234,
     "metadata": {},
     "output_type": "execute_result"
    }
   ],
   "source": [
    "spreadi = i.max()-i.min()\n",
    "spreadi"
   ]
  },
  {
   "cell_type": "code",
   "execution_count": 236,
   "id": "f16b8f61-0fbd-44b5-858d-3c2ff5ee0171",
   "metadata": {},
   "outputs": [
    {
     "data": {
      "text/plain": [
       "2.4973230741053842"
      ]
     },
     "execution_count": 236,
     "metadata": {},
     "output_type": "execute_result"
    }
   ],
   "source": [
    "i.std()"
   ]
  },
  {
   "cell_type": "code",
   "execution_count": 238,
   "id": "c4b4b2a0-fe65-4470-bc82-486e587c2689",
   "metadata": {},
   "outputs": [
    {
     "data": {
      "text/plain": [
       "1.588888625750501"
      ]
     },
     "execution_count": 238,
     "metadata": {},
     "output_type": "execute_result"
    }
   ],
   "source": [
    "i.skew()"
   ]
  },
  {
   "cell_type": "code",
   "execution_count": 240,
   "id": "83a78fe2-8142-4922-bebd-5d8ac552d0ad",
   "metadata": {},
   "outputs": [
    {
     "data": {
      "text/plain": [
       "2.4157014664235588"
      ]
     },
     "execution_count": 240,
     "metadata": {},
     "output_type": "execute_result"
    }
   ],
   "source": [
    "i.kurtosis()"
   ]
  },
  {
   "cell_type": "code",
   "execution_count": 921,
   "id": "984ee0a2-1dbe-439c-aeee-0b423e51aba9",
   "metadata": {},
   "outputs": [],
   "source": [
    "# Testing the difference between 1970s stagflation and 2020s inflation.\n",
    "# Trim the data set down to these periods."
   ]
  },
  {
   "cell_type": "code",
   "execution_count": 251,
   "id": "0d8cb844-db4d-4a6d-bd21-9492a4ff73db",
   "metadata": {},
   "outputs": [],
   "source": [
    "seventiesinflation = df[(df['Date'] >= '1970-01-01') & (df['Date'] < '1980-01-01')]"
   ]
  },
  {
   "cell_type": "code",
   "execution_count": 256,
   "id": "fa5f43bb-6541-4c8d-8726-ac97ac287d7e",
   "metadata": {},
   "outputs": [],
   "source": [
    "twentytwentiesinflation = df[(df['Date'] > '2020-01-01')]"
   ]
  },
  {
   "cell_type": "code",
   "execution_count": 927,
   "id": "df59d512-93db-4a30-9176-b27f5b9d4b11",
   "metadata": {},
   "outputs": [],
   "source": [
    "# Plot the histograms separately"
   ]
  },
  {
   "cell_type": "code",
   "execution_count": 293,
   "id": "cc3c5bfc-8f7f-4b66-a6cc-75324654208d",
   "metadata": {},
   "outputs": [
    {
     "data": {
      "text/plain": [
       "Text(0.5, 0, '70s Inflation')"
      ]
     },
     "execution_count": 293,
     "metadata": {},
     "output_type": "execute_result"
    },
    {
     "data": {
      "image/png": "[encoded data removed]",
      "text/plain": [
       "<Figure size 640x480 with 1 Axes>"
      ]
     },
     "metadata": {},
     "output_type": "display_data"
    }
   ],
   "source": [
    "histseventies = thinkstats2.Hist(seventiesinflation.Inflation, label='Inflation in the 70s')\n",
    "thinkplot.Hist(histseventies)\n",
    "thinkplot.Config(xlabel=\"Inflation in the 70s\", ylabel=\"Count\")\n",
    "\n",
    "plt.hist(seventiesinflation.Inflation, bins=30, color='skyblue', edgecolor='black')\n",
    "plt.xlabel('70s Inflation')"
   ]
  },
  {
   "cell_type": "code",
   "execution_count": 302,
   "id": "76fb1fbb-05cb-465b-8090-58b9958aced6",
   "metadata": {},
   "outputs": [
    {
     "data": {
      "text/plain": [
       "Text(0.5, 0, '2020s Inflation')"
      ]
     },
     "execution_count": 302,
     "metadata": {},
     "output_type": "execute_result"
    },
    {
     "data": {
      "image/png": "[encoded data removed]",
      "text/plain": [
       "<Figure size 640x480 with 1 Axes>"
      ]
     },
     "metadata": {},
     "output_type": "display_data"
    }
   ],
   "source": [
    "histtwentytwenties = thinkstats2.Hist(twentytwentiesinflation.Inflation, \n",
    "                                       label='Inflation in the 2020s')\n",
    "thinkplot.Hist(histtwentytwenties)\n",
    "thinkplot.Config(xlabel=\"Inflation in the 2020s\", ylabel=\"Count\")\n",
    "\n",
    "plt.hist(twentytwentiesinflation.Inflation, bins=30, color='skyblue', edgecolor='black')\n",
    "plt.xlabel('2020s Inflation')"
   ]
  },
  {
   "cell_type": "code",
   "execution_count": 929,
   "id": "397a331b-051a-4ab0-ac42-fb47c007bb03",
   "metadata": {},
   "outputs": [],
   "source": [
    "# Make more appropriate bins so that the PMFs show up better"
   ]
  },
  {
   "cell_type": "code",
   "execution_count": 539,
   "id": "f7ee49d8-0abc-4d2c-ba15-7fa150c350a4",
   "metadata": {},
   "outputs": [],
   "source": [
    "bins = 14\n",
    "seventiesbin = pd.cut(seventiesinflation.Inflation, bins=bins, labels=False)\n",
    "twentytwentiesbin = pd.cut(twentytwentiesinflation.Inflation, bins=bins, labels=False)"
   ]
  },
  {
   "cell_type": "code",
   "execution_count": 931,
   "id": "b542e3db-a2fd-4d22-bf88-39c9acf83d9d",
   "metadata": {},
   "outputs": [],
   "source": [
    "# Plot the PMFs"
   ]
  },
  {
   "cell_type": "code",
   "execution_count": 543,
   "id": "1288f666-ff22-4c34-a504-723700e1116a",
   "metadata": {},
   "outputs": [],
   "source": [
    "seventiespmf = thinkstats2.Pmf(seventiesbin, label=\"70s Inflation\")\n",
    "twentytwentiespmf = thinkstats2.Pmf(twentytwentiesbin, label=\"2020s Inflation\")"
   ]
  },
  {
   "cell_type": "code",
   "execution_count": 545,
   "id": "254c282e-65ad-47d7-a1a1-c5fdf7361aa6",
   "metadata": {},
   "outputs": [
    {
     "data": {
      "image/png": "[encoded data removed]",
      "text/plain": [
       "<Figure size 1200x600 with 2 Axes>"
      ]
     },
     "metadata": {},
     "output_type": "display_data"
    }
   ],
   "source": [
    "width = 0.25\n",
    "axis = [0, 14, 0, 0.3]\n",
    "thinkplot.PrePlot(2, cols=2)\n",
    "thinkplot.Hist(seventiespmf, align=\"right\", width=width)\n",
    "thinkplot.Hist(twentytwentiespmf, align=\"left\", width=width)\n",
    "thinkplot.Config(xlabel=\"Inflation (Bar Graph)\", ylabel=\"PMF\", axis=axis)\n",
    "\n",
    "thinkplot.PrePlot(2)\n",
    "thinkplot.SubPlot(2)\n",
    "thinkplot.Pmfs([seventiespmf, twentytwentiespmf])\n",
    "thinkplot.Config(xlabel=\"Inflation (Step Function)\", axis=axis)"
   ]
  },
  {
   "cell_type": "code",
   "execution_count": 933,
   "id": "44071b68-647d-4676-95b7-a9280162746c",
   "metadata": {},
   "outputs": [],
   "source": [
    "# Make a CDF of the unemployment rate"
   ]
  },
  {
   "cell_type": "code",
   "execution_count": 408,
   "id": "4f48f937-da57-4e93-bb08-028a3c248b14",
   "metadata": {},
   "outputs": [
    {
     "data": {
      "image/png": "[encoded data removed]",
      "text/plain": [
       "<Figure size 640x480 with 1 Axes>"
      ]
     },
     "metadata": {},
     "output_type": "display_data"
    },
    {
     "data": {
      "text/plain": [
       "<Figure size 800x600 with 0 Axes>"
      ]
     },
     "metadata": {},
     "output_type": "display_data"
    }
   ],
   "source": [
    "cdfur = thinkstats2.Cdf(ur, label = 'Unemployment Rate')\n",
    "thinkplot.Cdf(cdfur)\n",
    "thinkplot.Show(xlabel = 'Unemployment Rate', ylabel = 'CDF')"
   ]
  },
  {
   "cell_type": "code",
   "execution_count": 937,
   "id": "37ffba66-5ac1-40f1-8e53-6d6d0d5e19f3",
   "metadata": {},
   "outputs": [],
   "source": [
    "# Plot a Pareto CDF of GDP"
   ]
  },
  {
   "cell_type": "code",
   "execution_count": 588,
   "id": "f12b809b-e1b8-4683-ad8e-2e6c1d768feb",
   "metadata": {},
   "outputs": [
    {
     "data": {
      "image/png": "[encoded data removed]",
      "text/plain": [
       "<Figure size 640x480 with 1 Axes>"
      ]
     },
     "metadata": {},
     "output_type": "display_data"
    }
   ],
   "source": [
    "gdplog = np.log10(gdp)\n",
    "cdfgdplog = thinkstats2.Cdf(gdp, label=\"GDP\")\n",
    "logcdf = thinkstats2.Cdf(gdplog, label=\"GDP\")\n",
    "xs, ys = thinkstats2.RenderParetoCdf(xmin=5000, alpha=1, low=0, high=100000)\n",
    "thinkplot.Plot(np.log10(xs), 1 - ys, label=\"model\", color=\"0.8\")\n",
    "thinkplot.Cdf(logcdf, complement=True)\n",
    "thinkplot.Config(xlabel=\"log10 GDP\", ylabel=\"CCDF\", yscale=\"log\", loc=\"lower left\")"
   ]
  },
  {
   "cell_type": "code",
   "execution_count": 939,
   "id": "32c63cbf-7afe-4f32-95fb-184aee62e9ec",
   "metadata": {},
   "outputs": [],
   "source": [
    "# Let's see if lognormal works better."
   ]
  },
  {
   "cell_type": "code",
   "execution_count": 593,
   "id": "b77f82cc-2d67-4cf3-9329-b32f5334634b",
   "metadata": {},
   "outputs": [
    {
     "data": {
      "image/png": "[encoded data removed]",
      "text/plain": [
       "<Figure size 1200x600 with 1 Axes>"
      ]
     },
     "metadata": {},
     "output_type": "display_data"
    }
   ],
   "source": [
    "thinkplot.PrePlot(cols=2)\n",
    "\n",
    "mu, sigma = gdplog.mean(), gdplog.std()\n",
    "xs, ps = thinkstats2.RenderNormalCdf(mu, sigma, low=0, high=8)\n",
    "thinkplot.Plot(xs, ps, label=\"model\", color=\"0.8\")\n",
    "\n",
    "thinkplot.Cdf(logcdf)\n",
    "thinkplot.Config(xlabel=\"log10 GDP\", ylabel=\"CDF\", loc=\"lower right\")"
   ]
  },
  {
   "cell_type": "code",
   "execution_count": 942,
   "id": "d6a628d3-8a60-485e-b5b4-e1a4dc943a9a",
   "metadata": {},
   "outputs": [],
   "source": [
    "# Normal doesn't fit well"
   ]
  },
  {
   "cell_type": "code",
   "execution_count": 598,
   "id": "411ae1e6-4589-4100-bf6b-a40ae327b1ed",
   "metadata": {},
   "outputs": [
    {
     "data": {
      "image/png": "[encoded data removed]",
      "text/plain": [
       "<Figure size 640x480 with 1 Axes>"
      ]
     },
     "metadata": {},
     "output_type": "display_data"
    }
   ],
   "source": [
    "thinkstats2.NormalProbabilityPlot(gdplog, label=\"data\")\n",
    "thinkplot.Config(xlabel=\"Random variate\", ylabel=\"log10 population\", xlim=[-5, 5])"
   ]
  },
  {
   "cell_type": "code",
   "execution_count": 944,
   "id": "915d04d2-114e-4a99-a1f4-bdb1a89d8ba1",
   "metadata": {},
   "outputs": [],
   "source": [
    "# Make a scatter plot of unemployment vs inflation"
   ]
  },
  {
   "cell_type": "code",
   "execution_count": 604,
   "id": "bd6f59ca-b6c6-4353-a27f-1efa4db2b8a7",
   "metadata": {},
   "outputs": [
    {
     "data": {
      "image/png": "[encoded data removed]",
      "text/plain": [
       "<Figure size 640x480 with 1 Axes>"
      ]
     },
     "metadata": {},
     "output_type": "display_data"
    },
    {
     "data": {
      "text/plain": [
       "<Figure size 800x600 with 0 Axes>"
      ]
     },
     "metadata": {},
     "output_type": "display_data"
    }
   ],
   "source": [
    "thinkplot.Scatter(i, ur)\n",
    "thinkplot.Show(xlabel = 'Inflation',\n",
    "               ylabel = 'Unemployment',\n",
    "               axis = [0,14,0,14])"
   ]
  },
  {
   "cell_type": "code",
   "execution_count": 946,
   "id": "eb29d5b5-6577-4c1b-b536-0ca89870a24f",
   "metadata": {},
   "outputs": [],
   "source": [
    "# Try making a couple scatter plots with inflation shifted to later periods"
   ]
  },
  {
   "cell_type": "code",
   "execution_count": 615,
   "id": "54cbb524-dd3b-473d-bb07-ed7b0b492380",
   "metadata": {},
   "outputs": [],
   "source": [
    "df['Inflationplusone'] = df['Inflation'].shift(1)"
   ]
  },
  {
   "cell_type": "code",
   "execution_count": 617,
   "id": "0cd238cc-25e4-4756-a8d0-b5242a33895c",
   "metadata": {},
   "outputs": [
    {
     "data": {
      "image/png": "[encoded data removed]",
      "text/plain": [
       "<Figure size 640x480 with 1 Axes>"
      ]
     },
     "metadata": {},
     "output_type": "display_data"
    },
    {
     "data": {
      "text/plain": [
       "<Figure size 800x600 with 0 Axes>"
      ]
     },
     "metadata": {},
     "output_type": "display_data"
    }
   ],
   "source": [
    "thinkplot.Scatter(df.Inflationplusone, ur)\n",
    "thinkplot.Show(xlabel = 'Inflation (one time period later)',\n",
    "               ylabel = 'Unemployment',\n",
    "               axis = [0,14,0,14])"
   ]
  },
  {
   "cell_type": "code",
   "execution_count": 619,
   "id": "36162fbf-8029-4e62-aa70-33a9d195f1ed",
   "metadata": {},
   "outputs": [],
   "source": [
    "df['Inflationplustwo'] = df['Inflation'].shift(2)"
   ]
  },
  {
   "cell_type": "code",
   "execution_count": 621,
   "id": "0e86c183-4a39-4e75-9c17-53cafde55a48",
   "metadata": {},
   "outputs": [
    {
     "data": {
      "image/png": "[encoded data removed]",
      "text/plain": [
       "<Figure size 640x480 with 1 Axes>"
      ]
     },
     "metadata": {},
     "output_type": "display_data"
    },
    {
     "data": {
      "text/plain": [
       "<Figure size 800x600 with 0 Axes>"
      ]
     },
     "metadata": {},
     "output_type": "display_data"
    }
   ],
   "source": [
    "thinkplot.Scatter(df.Inflationplustwo, ur)\n",
    "thinkplot.Show(xlabel = 'Inflation (two time periods later)',\n",
    "               ylabel = 'Unemployment',\n",
    "               axis = [0,14,0,14])"
   ]
  },
  {
   "cell_type": "code",
   "execution_count": 623,
   "id": "36f549e8-1b61-4d07-8e5a-5d010f6905cf",
   "metadata": {},
   "outputs": [],
   "source": [
    "df['Inflationplusthree'] = df['Inflation'].shift(3)"
   ]
  },
  {
   "cell_type": "code",
   "execution_count": 625,
   "id": "7406a593-0ddd-45b5-8293-f9b28dcaeb8a",
   "metadata": {},
   "outputs": [
    {
     "data": {
      "image/png": "[encoded data removed]",
      "text/plain": [
       "<Figure size 640x480 with 1 Axes>"
      ]
     },
     "metadata": {},
     "output_type": "display_data"
    },
    {
     "data": {
      "text/plain": [
       "<Figure size 800x600 with 0 Axes>"
      ]
     },
     "metadata": {},
     "output_type": "display_data"
    }
   ],
   "source": [
    "thinkplot.Scatter(df.Inflationplusthree, ur)\n",
    "thinkplot.Show(xlabel = 'Inflation (three time periods later)',\n",
    "               ylabel = 'Unemployment',\n",
    "               axis = [0,14,0,14])"
   ]
  },
  {
   "cell_type": "code",
   "execution_count": 948,
   "id": "20451dee-542a-424b-9c0b-98c08bd159c9",
   "metadata": {},
   "outputs": [],
   "source": [
    "# Check the covariance of these variables"
   ]
  },
  {
   "cell_type": "code",
   "execution_count": 635,
   "id": "e4ba7e4e-aed3-4c7e-996b-521538b08376",
   "metadata": {},
   "outputs": [],
   "source": [
    "def Cov(xs, ys, meanx=None, meany=None):\n",
    "    xs = np.asarray(xs)\n",
    "    ys = np.asarray(ys)\n",
    "\n",
    "    if meanx is None:\n",
    "        meanx = np.mean(xs)\n",
    "    if meany is None:\n",
    "        meany = np.mean(ys)\n",
    "\n",
    "    cov = np.dot(xs-meanx, ys-meany) / len(xs)\n",
    "    return cov"
   ]
  },
  {
   "cell_type": "code",
   "execution_count": 637,
   "id": "11cea6d1-2b7b-4b54-b191-0b4e2bce6267",
   "metadata": {},
   "outputs": [
    {
     "data": {
      "text/plain": [
       "0.6961821901181796"
      ]
     },
     "execution_count": 637,
     "metadata": {},
     "output_type": "execute_result"
    }
   ],
   "source": [
    "Cov(i, ur)"
   ]
  },
  {
   "cell_type": "code",
   "execution_count": 655,
   "id": "04e269ed-e488-4ad8-953b-d0cc2d570a23",
   "metadata": {},
   "outputs": [],
   "source": [
    "dfiur = df.dropna()"
   ]
  },
  {
   "cell_type": "code",
   "execution_count": 657,
   "id": "49f6528a-b390-480e-82b4-5bcbdf924941",
   "metadata": {},
   "outputs": [
    {
     "data": {
      "text/plain": [
       "0.9434305873452288"
      ]
     },
     "execution_count": 657,
     "metadata": {},
     "output_type": "execute_result"
    }
   ],
   "source": [
    "Cov(dfiur.Inflationplusone, dfiur.UnemploymentRate)"
   ]
  },
  {
   "cell_type": "code",
   "execution_count": 659,
   "id": "52a285db-e3e3-4f33-970d-94fd8f5ac71e",
   "metadata": {},
   "outputs": [
    {
     "data": {
      "text/plain": [
       "1.1643767931992364"
      ]
     },
     "execution_count": 659,
     "metadata": {},
     "output_type": "execute_result"
    }
   ],
   "source": [
    "Cov(dfiur.Inflationplustwo, dfiur.UnemploymentRate)"
   ]
  },
  {
   "cell_type": "code",
   "execution_count": 661,
   "id": "17d6cc2e-b3aa-4045-800c-c2b966981242",
   "metadata": {},
   "outputs": [
    {
     "data": {
      "text/plain": [
       "1.3488415659959656"
      ]
     },
     "execution_count": 661,
     "metadata": {},
     "output_type": "execute_result"
    }
   ],
   "source": [
    "Cov(dfiur.Inflationplusthree, dfiur.UnemploymentRate)"
   ]
  },
  {
   "cell_type": "code",
   "execution_count": 950,
   "id": "c989660d-492e-426c-8a5d-e2c4eb444771",
   "metadata": {},
   "outputs": [],
   "source": [
    "# Check Pearson's correlation between the variables"
   ]
  },
  {
   "cell_type": "code",
   "execution_count": 664,
   "id": "bb7946d6-8469-464f-8db6-71df6e978d35",
   "metadata": {},
   "outputs": [],
   "source": [
    "def Corr(xs, ys):\n",
    "    xs = np.asarray(xs)\n",
    "    ys = np.asarray(ys)\n",
    "\n",
    "    meanx, varx = thinkstats2.MeanVar(xs)\n",
    "    meany, vary = thinkstats2.MeanVar(ys)\n",
    "\n",
    "    corr = Cov(xs, ys, meanx, meany) / np.sqrt(varx * vary)\n",
    "    return corr"
   ]
  },
  {
   "cell_type": "code",
   "execution_count": 666,
   "id": "f9464f2d-28f7-4e17-ba8e-43e067866a9e",
   "metadata": {},
   "outputs": [
    {
     "data": {
      "text/plain": [
       "0.16663428963846838"
      ]
     },
     "execution_count": 666,
     "metadata": {},
     "output_type": "execute_result"
    }
   ],
   "source": [
    "Corr(i,ur)"
   ]
  },
  {
   "cell_type": "code",
   "execution_count": 668,
   "id": "579c3f7f-6028-4e31-a2dd-2f12d1236aad",
   "metadata": {},
   "outputs": [
    {
     "data": {
      "text/plain": [
       "0.22345208634542768"
      ]
     },
     "execution_count": 668,
     "metadata": {},
     "output_type": "execute_result"
    }
   ],
   "source": [
    "Corr(dfiur.Inflationplusone, dfiur.UnemploymentRate)"
   ]
  },
  {
   "cell_type": "code",
   "execution_count": 670,
   "id": "a8fe4f0e-0fd2-44ed-b924-f7077cce85bf",
   "metadata": {},
   "outputs": [
    {
     "data": {
      "text/plain": [
       "0.27551186491580737"
      ]
     },
     "execution_count": 670,
     "metadata": {},
     "output_type": "execute_result"
    }
   ],
   "source": [
    "Corr(dfiur.Inflationplustwo, dfiur.UnemploymentRate)"
   ]
  },
  {
   "cell_type": "code",
   "execution_count": 672,
   "id": "d4a889ca-6804-4cfa-9943-f46e5c8a9bf0",
   "metadata": {},
   "outputs": [
    {
     "data": {
      "text/plain": [
       "0.31881786108191157"
      ]
     },
     "execution_count": 672,
     "metadata": {},
     "output_type": "execute_result"
    }
   ],
   "source": [
    "Corr(dfiur.Inflationplusthree, dfiur.UnemploymentRate)"
   ]
  },
  {
   "cell_type": "code",
   "execution_count": 952,
   "id": "21bdff5d-e68f-4126-b535-8fbc92de29ee",
   "metadata": {},
   "outputs": [],
   "source": [
    "# Check a quadratic relationship"
   ]
  },
  {
   "cell_type": "code",
   "execution_count": 688,
   "id": "9fda443d-7da4-47cc-8b78-fd3b447c5df1",
   "metadata": {},
   "outputs": [
    {
     "data": {
      "text/plain": [
       "0.14609955304184088"
      ]
     },
     "execution_count": 688,
     "metadata": {},
     "output_type": "execute_result"
    }
   ],
   "source": [
    "Corr(i, ur**2)"
   ]
  },
  {
   "cell_type": "code",
   "execution_count": 690,
   "id": "9c217fea-d741-49d0-8dc4-0308e3103668",
   "metadata": {},
   "outputs": [
    {
     "data": {
      "text/plain": [
       "0.20721426536634285"
      ]
     },
     "execution_count": 690,
     "metadata": {},
     "output_type": "execute_result"
    }
   ],
   "source": [
    "Corr(dfiur.Inflationplusone, (dfiur.UnemploymentRate)**2)"
   ]
  },
  {
   "cell_type": "code",
   "execution_count": 692,
   "id": "5c71c952-1f66-4922-9d68-e8c2e8cd40f3",
   "metadata": {},
   "outputs": [
    {
     "data": {
      "text/plain": [
       "0.26159272586307714"
      ]
     },
     "execution_count": 692,
     "metadata": {},
     "output_type": "execute_result"
    }
   ],
   "source": [
    "Corr(dfiur.Inflationplustwo, (dfiur.UnemploymentRate)**2)"
   ]
  },
  {
   "cell_type": "code",
   "execution_count": 694,
   "id": "293798b2-9a8d-4389-9177-81a628865f33",
   "metadata": {},
   "outputs": [
    {
     "data": {
      "text/plain": [
       "0.3049744598701022"
      ]
     },
     "execution_count": 694,
     "metadata": {},
     "output_type": "execute_result"
    }
   ],
   "source": [
    "Corr(dfiur.Inflationplusthree, (dfiur.UnemploymentRate)**2)"
   ]
  },
  {
   "cell_type": "code",
   "execution_count": 954,
   "id": "9599834e-eb13-4ba1-bbc8-f2c59b878685",
   "metadata": {},
   "outputs": [],
   "source": [
    "# Check a difference in means between the two inflationary periods.\n",
    "# Start by combining the inflation information into one data set."
   ]
  },
  {
   "cell_type": "code",
   "execution_count": 706,
   "id": "b7336e97-2a67-4cf2-8e90-01dc10efc46c",
   "metadata": {},
   "outputs": [],
   "source": [
    "data = seventiesinflation.Inflation.values, twentytwentiesinflation.Inflation.values"
   ]
  },
  {
   "cell_type": "code",
   "execution_count": 719,
   "id": "767820ed-dbef-4df6-9836-20e8c24e0e8a",
   "metadata": {},
   "outputs": [
    {
     "data": {
      "text/plain": [
       "(array([ 6.03397992,  6.28779105,  6.20166081,  6.45658175,  5.86006327,\n",
       "         5.01254701,  4.54302312,  3.43331403,  3.32016226,  3.05242277,\n",
       "         2.94790481,  2.93210952,  2.83067946,  3.11297359,  3.39078195,\n",
       "         4.57250973,  5.43062377,  7.0673196 ,  9.61847574, 10.9666439 ,\n",
       "        11.57426796, 10.45956105,  8.18470187,  6.91292114,  6.64217758,\n",
       "         6.41358185,  6.76074192,  6.40617688,  6.16824603,  6.43611749,\n",
       "         6.21772786,  6.18913264,  6.31302757,  6.76147388,  7.53267329,\n",
       "         8.44909015,  9.0368328 ,  9.37173926,  9.82786081, 10.69782153]),\n",
       " array([1.28901267, 1.65715598, 1.6382144 , 1.43894762, 3.71948929,\n",
       "        4.0580557 , 5.02048498, 6.32967296, 6.02604462, 6.28066817,\n",
       "        5.97951499, 5.53220596, 5.23439774, 4.42136664, 3.98230397,\n",
       "        3.81130826, 3.43450969, 3.24582221]))"
      ]
     },
     "execution_count": 719,
     "metadata": {},
     "output_type": "execute_result"
    }
   ],
   "source": [
    "data"
   ]
  },
  {
   "cell_type": "code",
   "execution_count": 956,
   "id": "818b294f-313a-4fc0-9da3-2a8eb0782e6a",
   "metadata": {},
   "outputs": [],
   "source": [
    "# Check the data to make sure it formed properly"
   ]
  },
  {
   "cell_type": "code",
   "execution_count": 763,
   "id": "3e206ca7-9b2e-49e3-abba-20b6af0cbf39",
   "metadata": {},
   "outputs": [
    {
     "data": {
      "text/plain": [
       "245    1.289013\n",
       "246    1.657156\n",
       "247    1.638214\n",
       "248    1.438948\n",
       "249    3.719489\n",
       "250    4.058056\n",
       "251    5.020485\n",
       "252    6.329673\n",
       "253    6.026045\n",
       "254    6.280668\n",
       "255    5.979515\n",
       "256    5.532206\n",
       "257    5.234398\n",
       "258    4.421367\n",
       "259    3.982304\n",
       "260    3.811308\n",
       "261    3.434510\n",
       "262    3.245822\n",
       "Name: Inflation, dtype: float64"
      ]
     },
     "execution_count": 763,
     "metadata": {},
     "output_type": "execute_result"
    }
   ],
   "source": [
    "twentytwentiesinflation.Inflation"
   ]
  },
  {
   "cell_type": "code",
   "execution_count": 723,
   "id": "287629c2-b6c2-4b39-a410-3f8fa155ac92",
   "metadata": {},
   "outputs": [
    {
     "data": {
      "text/plain": [
       "44     6.033980\n",
       "45     6.287791\n",
       "46     6.201661\n",
       "47     6.456582\n",
       "48     5.860063\n",
       "49     5.012547\n",
       "50     4.543023\n",
       "51     3.433314\n",
       "52     3.320162\n",
       "53     3.052423\n",
       "54     2.947905\n",
       "55     2.932110\n",
       "56     2.830679\n",
       "57     3.112974\n",
       "58     3.390782\n",
       "59     4.572510\n",
       "60     5.430624\n",
       "61     7.067320\n",
       "62     9.618476\n",
       "63    10.966644\n",
       "64    11.574268\n",
       "65    10.459561\n",
       "66     8.184702\n",
       "67     6.912921\n",
       "68     6.642178\n",
       "69     6.413582\n",
       "70     6.760742\n",
       "71     6.406177\n",
       "72     6.168246\n",
       "73     6.436117\n",
       "74     6.217728\n",
       "75     6.189133\n",
       "76     6.313028\n",
       "77     6.761474\n",
       "78     7.532673\n",
       "79     8.449090\n",
       "80     9.036833\n",
       "81     9.371739\n",
       "82     9.827861\n",
       "83    10.697822\n",
       "Name: Inflation, dtype: float64"
      ]
     },
     "execution_count": 723,
     "metadata": {},
     "output_type": "execute_result"
    }
   ],
   "source": [
    "seventiesinflation.Inflation"
   ]
  },
  {
   "cell_type": "code",
   "execution_count": 958,
   "id": "c85ab9a5-5040-4215-9394-c6415ad73b49",
   "metadata": {},
   "outputs": [],
   "source": [
    "# Test the means and find the p-value"
   ]
  },
  {
   "cell_type": "code",
   "execution_count": 711,
   "id": "9d21e4c6-1cc8-4ccb-9936-840e757a775b",
   "metadata": {},
   "outputs": [],
   "source": [
    "class DiffMeansPermute(thinkstats2.HypothesisTest):\n",
    "    def TestStatistic(self, data):\n",
    "        group1, group2 = data\n",
    "        test_stat = abs(group1.mean() - group2.mean())\n",
    "        return test_stat\n",
    "\n",
    "    def MakeModel(self):\n",
    "        group1, group2 = self.data\n",
    "        self.n, self.m = len(group1), len(group2)\n",
    "        self.pool = np.hstack((group1, group2))\n",
    "\n",
    "    def RunModel(self):\n",
    "        np.random.shuffle(self.pool)\n",
    "        data = self.pool[:self.n], self.pool[self.n:]\n",
    "        return data"
   ]
  },
  {
   "cell_type": "code",
   "execution_count": 817,
   "id": "7d666b94-cc18-424d-b127-28ace15a87d2",
   "metadata": {},
   "outputs": [],
   "source": [
    "ht = DiffMeansPermute(data)"
   ]
  },
  {
   "cell_type": "code",
   "execution_count": 819,
   "id": "87a20b89-d48c-4fbd-8323-cab262e5b4b1",
   "metadata": {},
   "outputs": [
    {
     "data": {
      "text/plain": [
       "0.0"
      ]
     },
     "execution_count": 819,
     "metadata": {},
     "output_type": "execute_result"
    }
   ],
   "source": [
    "pvalue = ht.PValue()\n",
    "pvalue"
   ]
  },
  {
   "cell_type": "code",
   "execution_count": 821,
   "id": "60292a66-8afe-4257-880a-daac4d4f0d16",
   "metadata": {},
   "outputs": [
    {
     "data": {
      "image/png": "[encoded data removed]",
      "text/plain": [
       "<Figure size 640x480 with 1 Axes>"
      ]
     },
     "metadata": {},
     "output_type": "display_data"
    },
    {
     "data": {
      "text/plain": [
       "<Figure size 800x600 with 0 Axes>"
      ]
     },
     "metadata": {},
     "output_type": "display_data"
    }
   ],
   "source": [
    "ht.PlotCdf()\n",
    "thinkplot.Show(xlabel = 'test statistic',\n",
    "               ylabel = 'CDF')"
   ]
  },
  {
   "cell_type": "code",
   "execution_count": 960,
   "id": "f8486b90-9fb4-4d10-b7df-5e4240cfe34e",
   "metadata": {},
   "outputs": [],
   "source": [
    "# Compute the p-value for a smaller sample"
   ]
  },
  {
   "cell_type": "code",
   "execution_count": 901,
   "id": "27d06951-d076-4aec-b9eb-c10aabfc4858",
   "metadata": {},
   "outputs": [],
   "source": [
    "sample70s = thinkstats2.SampleRows(seventiesinflation.Inflation, 20)"
   ]
  },
  {
   "cell_type": "code",
   "execution_count": 903,
   "id": "9576f6b6-85bf-4468-9aa1-be4e8b60ba13",
   "metadata": {},
   "outputs": [],
   "source": [
    "sample20s = thinkstats2.SampleRows(twentytwentiesinflation.Inflation, 9)"
   ]
  },
  {
   "cell_type": "code",
   "execution_count": 905,
   "id": "0516ce80-685c-4e95-9498-deee1dfdf2de",
   "metadata": {},
   "outputs": [],
   "source": [
    "sampledata = sample70s.values, sample20s.values"
   ]
  },
  {
   "cell_type": "code",
   "execution_count": 907,
   "id": "7db82645-f575-4996-aac8-03a3d9af7e97",
   "metadata": {},
   "outputs": [
    {
     "data": {
      "text/plain": [
       "(array([ 6.64217758,  8.44909015,  6.03397992,  6.40617688, 10.9666439 ,\n",
       "        11.57426796,  2.93210952,  3.39078195,  6.91292114,  6.28779105,\n",
       "         7.53267329,  6.21772786,  6.76074192,  7.0673196 ,  5.86006327,\n",
       "         3.11297359,  6.76147388,  9.61847574,  5.01254701,  6.43611749]),\n",
       " array([5.97951499, 1.6382144 , 5.02048498, 1.28901267, 6.32967296,\n",
       "        4.42136664, 1.65715598, 3.98230397, 3.81130826]))"
      ]
     },
     "execution_count": 907,
     "metadata": {},
     "output_type": "execute_result"
    }
   ],
   "source": [
    "sampledata"
   ]
  },
  {
   "cell_type": "code",
   "execution_count": 909,
   "id": "eb361b16-55b8-483f-8cbf-8c383868bd4c",
   "metadata": {},
   "outputs": [],
   "source": [
    "htsample = DiffMeansPermute(sampledata)"
   ]
  },
  {
   "cell_type": "code",
   "execution_count": 911,
   "id": "d311bdfe-30a9-4a98-b18e-70dee88fa83f",
   "metadata": {},
   "outputs": [
    {
     "data": {
      "text/plain": [
       "0.004"
      ]
     },
     "execution_count": 911,
     "metadata": {},
     "output_type": "execute_result"
    }
   ],
   "source": [
    "pvaluesample = htsample.PValue()\n",
    "pvaluesample"
   ]
  },
  {
   "cell_type": "code",
   "execution_count": 913,
   "id": "7a353621-2d48-4aa4-882c-d1e1f725becc",
   "metadata": {},
   "outputs": [
    {
     "data": {
      "image/png": "[encoded data removed]",
      "text/plain": [
       "<Figure size 640x480 with 1 Axes>"
      ]
     },
     "metadata": {},
     "output_type": "display_data"
    },
    {
     "data": {
      "text/plain": [
       "<Figure size 800x600 with 0 Axes>"
      ]
     },
     "metadata": {},
     "output_type": "display_data"
    }
   ],
   "source": [
    "htsample.PlotCdf()\n",
    "thinkplot.Show(xlabel = 'test statistic',\n",
    "               ylabel = 'CDF')"
   ]
  },
  {
   "cell_type": "code",
   "execution_count": 963,
   "id": "6b00c439-840a-4292-8cf8-3bdd63ecebf1",
   "metadata": {},
   "outputs": [],
   "source": [
    "# Run a regression with GDP against all the other explanatory variables"
   ]
  },
  {
   "cell_type": "code",
   "execution_count": 966,
   "id": "f9d4bf2e-0311-47cb-bc8a-4ae459fe9048",
   "metadata": {},
   "outputs": [],
   "source": [
    "formula = 'gdp ~ m1 + m2 + ur + g + ffr + i'"
   ]
  },
  {
   "cell_type": "code",
   "execution_count": 977,
   "id": "f62e4f32-cfb8-49b2-93cb-79d9f1bcd2cc",
   "metadata": {},
   "outputs": [],
   "source": [
    "import statsmodels.formula.api as smf"
   ]
  },
  {
   "cell_type": "code",
   "execution_count": 979,
   "id": "a7903754-7b96-413d-859e-91bdad0bbbe7",
   "metadata": {},
   "outputs": [],
   "source": [
    "model = smf.ols(formula, data = df)"
   ]
  },
  {
   "cell_type": "code",
   "execution_count": 981,
   "id": "5e9d8177-3c11-4e22-ba62-d40cc674ef6b",
   "metadata": {},
   "outputs": [],
   "source": [
    "results = model.fit()"
   ]
  },
  {
   "cell_type": "code",
   "execution_count": 983,
   "id": "89d8f623-fb83-46f3-b2c2-a85f063c7abb",
   "metadata": {},
   "outputs": [
    {
     "name": "stdout",
     "output_type": "stream",
     "text": [
      "                            OLS Regression Results                            \n",
      "==============================================================================\n",
      "Dep. Variable:                    gdp   R-squared:                       0.934\n",
      "Model:                            OLS   Adj. R-squared:                  0.932\n",
      "Method:                 Least Squares   F-statistic:                     602.8\n",
      "Date:                Sat, 16 Nov 2024   Prob (F-statistic):          7.13e-148\n",
      "Time:                        05:15:37   Log-Likelihood:                -2271.6\n",
      "No. Observations:                 263   AIC:                             4557.\n",
      "Df Residuals:                     256   BIC:                             4582.\n",
      "Df Model:                           6                                         \n",
      "Covariance Type:            nonrobust                                         \n",
      "==============================================================================\n",
      "                 coef    std err          t      P>|t|      [0.025      0.975]\n",
      "------------------------------------------------------------------------------\n",
      "Intercept   6077.4853    417.661     14.551      0.000    5254.996    6899.975\n",
      "m1            -0.6440      0.039    -16.630      0.000      -0.720      -0.568\n",
      "m2             0.2723      0.109      2.495      0.013       0.057       0.487\n",
      "ur          -249.4203     65.018     -3.836      0.000    -377.458    -121.383\n",
      "g              3.0993      0.301     10.294      0.000       2.506       3.692\n",
      "ffr           70.2418     44.326      1.585      0.114     -17.049     157.532\n",
      "i             36.7058     61.634      0.596      0.552     -84.668     158.080\n",
      "==============================================================================\n",
      "Omnibus:                       55.293   Durbin-Watson:                   0.333\n",
      "Prob(Omnibus):                  0.000   Jarque-Bera (JB):              200.075\n",
      "Skew:                          -0.832   Prob(JB):                     3.58e-44\n",
      "Kurtosis:                       6.936   Cond. No.                     4.66e+04\n",
      "==============================================================================\n",
      "\n",
      "Notes:\n",
      "[1] Standard Errors assume that the covariance matrix of the errors is correctly specified.\n",
      "[2] The condition number is large, 4.66e+04. This might indicate that there are\n",
      "strong multicollinearity or other numerical problems.\n"
     ]
    }
   ],
   "source": [
    "print(results.summary())"
   ]
  },
  {
   "cell_type": "code",
   "execution_count": null,
   "id": "9e5123f0-3706-48ae-9fd5-6645a640ae87",
   "metadata": {},
   "outputs": [],
   "source": []
  }
 ],
 "metadata": {
  "kernelspec": {
   "display_name": "Python 3 (ipykernel)",
   "language": "python",
   "name": "python3"
  },
  "language_info": {
   "codemirror_mode": {
    "name": "ipython",
    "version": 3
   },
   "file_extension": ".py",
   "mimetype": "text/x-python",
   "name": "python",
   "nbconvert_exporter": "python",
   "pygments_lexer": "ipython3",
   "version": "3.12.4"
  }
 },
 "nbformat": 4,
 "nbformat_minor": 5
}
